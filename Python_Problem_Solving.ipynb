{
 "cells": [
  {
   "cell_type": "markdown",
   "id": "a15e9ffa",
   "metadata": {},
   "source": [
    "Basic Problems:"
   ]
  },
  {
   "cell_type": "markdown",
   "id": "cab0ca48",
   "metadata": {},
   "source": [
    "1. Write a Python program to swap the values of two variables without using a temporary variable."
   ]
  },
  {
   "cell_type": "code",
   "execution_count": 12,
   "id": "3483fe92",
   "metadata": {},
   "outputs": [
    {
     "name": "stdout",
     "output_type": "stream",
     "text": [
      "2 1\n"
     ]
    }
   ],
   "source": [
    "a=1\n",
    "b=2\n",
    "\n",
    "a,b=b,a\n",
    "\n",
    "print(a,b)"
   ]
  },
  {
   "cell_type": "markdown",
   "id": "1ee44de5",
   "metadata": {},
   "source": [
    "2. Write a Python program that takes an integer as input and prints whether it is even or odd."
   ]
  },
  {
   "cell_type": "code",
   "execution_count": 19,
   "id": "f6f357ec",
   "metadata": {},
   "outputs": [
    {
     "name": "stdout",
     "output_type": "stream",
     "text": [
      "Even\n"
     ]
    }
   ],
   "source": [
    "num=int(input())\n",
    "\n",
    "if num%2==0:\n",
    "    print(\"Even\")\n",
    "else:\n",
    "    print(\"Odd\")\n",
    "\n"
   ]
  },
  {
   "cell_type": "markdown",
   "id": "29c7bcaa",
   "metadata": {},
   "source": [
    "3. Write a Python function to reverse a given string and return the reversed string."
   ]
  },
  {
   "cell_type": "code",
   "execution_count": 21,
   "id": "7af686eb",
   "metadata": {},
   "outputs": [
    {
     "name": "stdout",
     "output_type": "stream",
     "text": [
      "nahuN\n"
     ]
    }
   ],
   "source": [
    "def reverse(t):\n",
    "    return t[::-1]\n",
    "\n",
    "text=\"Nuhan\"\n",
    "print(reverse(text))"
   ]
  },
  {
   "cell_type": "markdown",
   "id": "0644e59f",
   "metadata": {},
   "source": [
    "4. Given a list of integers, write a Python program to convert each element of the list to a string."
   ]
  },
  {
   "cell_type": "code",
   "execution_count": 12,
   "id": "c02ce323",
   "metadata": {},
   "outputs": [
    {
     "data": {
      "text/plain": [
       "str"
      ]
     },
     "execution_count": 12,
     "metadata": {},
     "output_type": "execute_result"
    }
   ],
   "source": [
    "lst=[1,2,3,4,6,4]\n",
    "\n",
    "lst_str=[str(i) for i in lst]\n",
    "\n",
    "type(lst)\n",
    "type(lst_str[5])\n",
    "    "
   ]
  },
  {
   "cell_type": "markdown",
   "id": "85ac4dbd",
   "metadata": {},
   "source": [
    "5. Write a Python program that converts a temperature in Celsius to Fahrenheit. Take the Celsius temperature as input from the user."
   ]
  },
  {
   "cell_type": "code",
   "execution_count": 13,
   "id": "c5121c0b",
   "metadata": {},
   "outputs": [
    {
     "name": "stdout",
     "output_type": "stream",
     "text": [
      "94.1\n"
     ]
    }
   ],
   "source": [
    "cel=float(input())\n",
    "\n",
    "F=(cel*9/5)+32\n",
    "print(F)\n"
   ]
  },
  {
   "cell_type": "markdown",
   "id": "79ee6529",
   "metadata": {},
   "source": [
    "6. Write a Python function that takes a variable as input and returns the data type of the variable as a string (e.g., “int”, “float”, “str”, “list”, etc.)."
   ]
  },
  {
   "cell_type": "code",
   "execution_count": 26,
   "id": "61173a0a",
   "metadata": {},
   "outputs": [
    {
     "name": "stdout",
     "output_type": "stream",
     "text": [
      "<class 'set'>\n"
     ]
    }
   ],
   "source": [
    "from ast import literal_eval\n",
    "\n",
    "def typeOfData(a):\n",
    "    try:\n",
    "        return type(literal_eval(a))\n",
    "    except (ValueError,SyntaxError):\n",
    "        return str\n",
    "\n",
    "print(typeOfData(input()))"
   ]
  },
  {
   "cell_type": "markdown",
   "id": "31ca8c30",
   "metadata": {},
   "source": [
    "7. Write a Python function to check if a given string is a palindrome or not."
   ]
  },
  {
   "cell_type": "code",
   "execution_count": 33,
   "id": "161ae1ec",
   "metadata": {},
   "outputs": [
    {
     "name": "stdout",
     "output_type": "stream",
     "text": [
      "Palindrome\n"
     ]
    }
   ],
   "source": [
    "name='madam'\n",
    "\n",
    "reverse_name=name[::-1]\n",
    "\n",
    "if reverse_name==name:\n",
    "    print(\"Palindrome\")\n",
    "else:\n",
    "    print(\"Not Palindrome\")"
   ]
  },
  {
   "cell_type": "markdown",
   "id": "e1f65273",
   "metadata": {},
   "source": [
    "8. Write a Python function to reverse a given string using slicing."
   ]
  },
  {
   "cell_type": "code",
   "execution_count": 38,
   "id": "dec275ad",
   "metadata": {},
   "outputs": [
    {
     "data": {
      "text/plain": [
       "'7253'"
      ]
     },
     "execution_count": 38,
     "metadata": {},
     "output_type": "execute_result"
    }
   ],
   "source": [
    "def reverse_str(a):\n",
    "    return a[::-1]\n",
    "\n",
    "reverse_str(input())"
   ]
  },
  {
   "cell_type": "markdown",
   "id": "4a5b4592",
   "metadata": {},
   "source": [
    "9. Write a Python program that takes two strings as input and concatenates them into a single string without using the `+` operator."
   ]
  },
  {
   "cell_type": "code",
   "execution_count": 40,
   "id": "d5897bc9",
   "metadata": {},
   "outputs": [
    {
     "name": "stdout",
     "output_type": "stream",
     "text": [
      "He is mr Rahim mia\n"
     ]
    }
   ],
   "source": [
    "a=str(input())\n",
    "b=str(input())\n",
    "\n",
    "print(f\"He is {a} Rahim {b}\")"
   ]
  },
  {
   "cell_type": "markdown",
   "id": "4835cdec",
   "metadata": {},
   "source": [
    "10.  Given three variables: `a = ‘100’`, `b = 25`, and `c = ‘10.5’`, write a Python program to perform the following operations and print the results: – Convert `a` to an integer and add it to `b`. – Convert `c` to a float and subtract it from the result of the first operation. – Convert the final result to a string and concatenate it with the string ” is the answer.”"
   ]
  },
  {
   "cell_type": "code",
   "execution_count": 49,
   "id": "cc779efb",
   "metadata": {},
   "outputs": [
    {
     "name": "stdout",
     "output_type": "stream",
     "text": [
      "125\n",
      "114.5\n",
      "114.5 is the answer.\n"
     ]
    }
   ],
   "source": [
    "a='100'\n",
    "b=25\n",
    "c='10.5'\n",
    "\n",
    "d=int(a)\n",
    "e=float(c)\n",
    "\n",
    "aAddWithB= d+b\n",
    "print(aAddWithB)\n",
    "\n",
    "sub= aAddWithB-e\n",
    "print(sub)\n",
    "\n",
    "convertToStr=str(sub)\n",
    "print(f\"{convertToStr} is the answer.\")\n",
    "\n"
   ]
  },
  {
   "cell_type": "markdown",
   "id": "0ce3e635",
   "metadata": {},
   "source": [
    "Python Conditional Statements:"
   ]
  },
  {
   "cell_type": "markdown",
   "id": "17757045",
   "metadata": {},
   "source": [
    "11. Write a Python program that takes a number as input and prints whether it is positive, negative, or zero."
   ]
  },
  {
   "cell_type": "code",
   "execution_count": 4,
   "id": "8218791d",
   "metadata": {},
   "outputs": [
    {
     "name": "stdout",
     "output_type": "stream",
     "text": [
      "negative\n"
     ]
    }
   ],
   "source": [
    "n=int(input())\n",
    "\n",
    "if n>0:\n",
    "    print(\"positive\")\n",
    "elif n<0:\n",
    "    print(\"negative\")\n",
    "else:\n",
    "    print(\"zero\")"
   ]
  },
  {
   "cell_type": "markdown",
   "id": "b3a0469c",
   "metadata": {},
   "source": [
    "12. Write a Python program that takes three numbers as input and prints the largest among them."
   ]
  },
  {
   "cell_type": "code",
   "execution_count": 13,
   "id": "069147de",
   "metadata": {},
   "outputs": [
    {
     "name": "stdout",
     "output_type": "stream",
     "text": [
      "6\n"
     ]
    }
   ],
   "source": [
    "a,b,c=input(\"Enter 3 Numbers: \").split()\n",
    "\n",
    "a=int(a)\n",
    "b=int(b)\n",
    "c=int(c)\n",
    "\n",
    "if a>b and a>c:\n",
    "    print(a)\n",
    "elif b>a and b>c:\n",
    "    print(b)\n",
    "else:\n",
    "    print(c)\n"
   ]
  },
  {
   "cell_type": "markdown",
   "id": "dfbb951a",
   "metadata": {},
   "source": [
    "13. Write a Python program that takes a year as input and determines if it is a leap year or not."
   ]
  },
  {
   "cell_type": "code",
   "execution_count": 16,
   "id": "9d7808b6",
   "metadata": {},
   "outputs": [
    {
     "name": "stdout",
     "output_type": "stream",
     "text": [
      "No leap year\n"
     ]
    }
   ],
   "source": [
    "leap_year=int(input())\n",
    "\n",
    "if leap_year%4==0:\n",
    "    print(\"leap year\")\n",
    "elif leap_year%100==0:\n",
    "    print(\"leap year\")\n",
    "elif leap_year%400==0:\n",
    "    print(\"leap year\")\n",
    "else:\n",
    "    print(\"No leap year\")\n"
   ]
  },
  {
   "cell_type": "markdown",
   "id": "8efafcf6",
   "metadata": {},
   "source": [
    "14. Write a Python program that takes a student’s percentage as input and prints their corresponding grade according to the following criteria: – 90% or above: A+ – 80-89%: A – 70-79%: B – 60-69%: C – Below 60%: Fail"
   ]
  },
  {
   "cell_type": "code",
   "execution_count": 37,
   "id": "edc2c26b",
   "metadata": {},
   "outputs": [
    {
     "name": "stdout",
     "output_type": "stream",
     "text": [
      "Not a valid number\n"
     ]
    }
   ],
   "source": [
    "n=float(input())\n",
    "\n",
    "if 90<=n and 100>=n:\n",
    "   print(\"A+\")\n",
    "elif 80<=n and 89>=n:\n",
    "   print(\"A\")\n",
    "elif 70<=n and 79>=n:\n",
    "   print(\"B\")\n",
    "elif 60<=n and 69>=n:\n",
    "   print(\"C\")\n",
    "elif 0>n or 100<n:\n",
    "   print(\"Not a valid number\") \n",
    "else:\n",
    "   print(\"F\")"
   ]
  },
  {
   "cell_type": "markdown",
   "id": "8a32e86c",
   "metadata": {},
   "source": [
    "15. Write a Python program that takes a single character as input and determines whether it is a vowel or a consonant."
   ]
  },
  {
   "cell_type": "code",
   "execution_count": 42,
   "id": "5b003593",
   "metadata": {},
   "outputs": [
    {
     "name": "stdout",
     "output_type": "stream",
     "text": [
      "a\n"
     ]
    }
   ],
   "source": [
    "char=input()\n",
    "print(char)\n",
    "\n",
    "\n"
   ]
  }
 ],
 "metadata": {
  "kernelspec": {
   "display_name": "base",
   "language": "python",
   "name": "python3"
  },
  "language_info": {
   "codemirror_mode": {
    "name": "ipython",
    "version": 3
   },
   "file_extension": ".py",
   "mimetype": "text/x-python",
   "name": "python",
   "nbconvert_exporter": "python",
   "pygments_lexer": "ipython3",
   "version": "3.12.7"
  }
 },
 "nbformat": 4,
 "nbformat_minor": 5
}
